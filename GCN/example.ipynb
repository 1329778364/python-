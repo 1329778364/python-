{
 "cells": [
  {
   "cell_type": "code",
   "execution_count": 1,
   "metadata": {
    "collapsed": true
   },
   "outputs": [
    {
     "name": "stderr",
     "output_type": "stream",
     "text": [
      "Using TensorFlow backend.\n"
     ]
    },
    {
     "name": "stdout",
     "output_type": "stream",
     "text": [
      "[[ 1. -1.]\n [ 5. -5.]\n [ 1. -1.]\n [ 2. -2.]]\n[[1. 1. 0. 0.]\n [0. 1. 1. 1.]\n [0. 1. 1. 0.]\n [1. 0. 1. 1.]]\n"
     ]
    }
   ],
   "source": [
    "import numpy as np\n",
    "import tensorflow as tf\n",
    "from keras.activations import relu\n",
    "tf.enable_eager_execution()\n",
    "\n",
    "# 邻接矩阵 包含了四个点\n",
    "A = np.matrix([\n",
    "    [0, 1, 0, 0],\n",
    "    [0, 0, 1, 1],\n",
    "    [0, 1, 0, 0],\n",
    "    [1, 0, 1, 0]],\n",
    "    dtype=float)\n",
    "\n",
    "# 每个点包含的特征\n",
    "x = np.matrix([\n",
    "    [i, -i]\n",
    "    for i in range(A.shape[0])], dtype=float)\n",
    "# print(x)\n",
    "# [[ 0.  0.]\n",
    "#  [ 1. -1.]\n",
    "#  [ 2. -2.]\n",
    "#  [ 3. -3.]]\n",
    "\n",
    "print(A*x) # 得到的是当前vertex的所有邻居节点的特征之和,\n",
    "# ,换句话说，图卷积层将每个节点表示为其相邻节点的聚合 当然这里仅仅是使用了邻接矩阵\n",
    "# 节点的聚合表征不包含它自己的特征！该表征是相邻节点的特征聚合，因此只有具有自环（self-loop）的节点才会在该聚合中包含自己的特征 [1]。\n",
    "# [[ 1. -1.]\n",
    "#  [ 5. -5.]\n",
    "#  [ 1. -1.]\n",
    "#  [ 2. -2.]]\n",
    "\n",
    "## 添加自环解决自z身特征无法融入问题\n",
    "I = np.matrix(np.eye(A.shape[0]))\n",
    "\n",
    "A_Hat = A + I\n",
    "print(A_Hat)\n",
    "# [[1. 1. 0. 0.]\n",
    "#  [0. 1. 1. 1.]\n",
    "#  [0. 1. 1. 0.]\n",
    "#  [1. 0. 1. 1.]]\n"
   ]
  },
  {
   "cell_type": "code",
   "execution_count": 2,
   "metadata": {},
   "outputs": [
    {
     "data": {
      "text/plain": [
       "matrix([[ 1., -1.],\n        [ 6., -6.],\n        [ 3., -3.],\n        [ 5., -5.]])"
      ]
     },
     "execution_count": 2,
     "metadata": {},
     "output_type": "execute_result"
    }
   ],
   "source": [
    "A_Hat * x # 现在，由于每个节点都是自己的邻居，每个节点在对相邻节点的特征求和过程中也会囊括自己的特征！"
   ]
  },
  {
   "cell_type": "code",
   "execution_count": 3,
   "metadata": {},
   "outputs": [],
   "source": [
    "#通过将邻接矩阵 A 与度矩阵 D 的逆相乘，对其进行变换"
   ]
  },
  {
   "cell_type": "code",
   "execution_count": 4,
   "metadata": {},
   "outputs": [],
   "source": [
    "# 得到节点的度\n",
    "D = np.array(np.sum(A, axis=0))[0]\n"
   ]
  },
  {
   "cell_type": "code",
   "execution_count": 5,
   "metadata": {},
   "outputs": [
    {
     "data": {
      "text/plain": [
       "array([1., 2., 2., 1.])"
      ]
     },
     "execution_count": 5,
     "metadata": {},
     "output_type": "execute_result"
    }
   ],
   "source": [
    "D"
   ]
  },
  {
   "cell_type": "code",
   "execution_count": 6,
   "metadata": {},
   "outputs": [],
   "source": [
    "# 得到对角矩阵\n",
    "D = np.matrix(np.diag(D)) \n"
   ]
  },
  {
   "cell_type": "code",
   "execution_count": 7,
   "metadata": {},
   "outputs": [
    {
     "data": {
      "text/plain": [
       "matrix([[0. , 1. , 0. , 0. ],\n        [0. , 0. , 0.5, 0.5],\n        [0. , 0.5, 0. , 0. ],\n        [1. , 0. , 1. , 0. ]])"
      ]
     },
     "execution_count": 7,
     "metadata": {},
     "output_type": "execute_result"
    }
   ],
   "source": [
    "D**-1*A \n",
    "# 可以发现邻接矩阵 的每个值都除以了该点的度，这样进行了归一化\n"
   ]
  },
  {
   "cell_type": "code",
   "execution_count": 8,
   "metadata": {},
   "outputs": [
    {
     "data": {
      "text/plain": [
       "matrix([[ 1. , -1. ],\n        [ 2.5, -2.5],\n        [ 0.5, -0.5],\n        [ 2. , -2. ]])"
      ]
     },
     "execution_count": 8,
     "metadata": {},
     "output_type": "execute_result"
    }
   ],
   "source": [
    "D**-1*A*x # 将变换应用于x"
   ]
  },
  {
   "cell_type": "code",
   "execution_count": 9,
   "metadata": {},
   "outputs": [
    {
     "data": {
      "text/plain": [
       "matrix([[2., 0., 0., 0.],\n        [0., 3., 0., 0.],\n        [0., 0., 3., 0.],\n        [0., 0., 0., 2.]])"
      ]
     },
     "execution_count": 9,
     "metadata": {},
     "output_type": "execute_result"
    }
   ],
   "source": [
    "D_Hat = np.array(np.sum(A_Hat, axis=0))[0]\n",
    "D_Hat = np.matrix(np.diag(D_Hat))\n",
    "D_Hat"
   ]
  },
  {
   "cell_type": "code",
   "execution_count": 10,
   "metadata": {},
   "outputs": [],
   "source": [
    "W = np.matrix([[1, -1],  # 权重\n",
    "             [-1, 1]])\n",
    "\n"
   ]
  },
  {
   "cell_type": "code",
   "execution_count": 13,
   "metadata": {},
   "outputs": [],
   "source": [
    "# 这就是一个带有邻接矩阵、\n",
    "# 输入特征、权重和激活函数的完整隐藏层！\n",
    "out = relu(D_Hat**-1 * A_Hat * x * W)\n"
   ]
  },
  {
   "cell_type": "code",
   "execution_count": 12,
   "metadata": {},
   "outputs": [
    {
     "name": "stdout",
     "output_type": "stream",
     "text": [
      "(0, <tf.Tensor: id=6, shape=(2,), dtype=float64, numpy=array([1., 0.])>)\n(1, <tf.Tensor: id=11, shape=(2,), dtype=float64, numpy=array([4., 0.])>)\n(2, <tf.Tensor: id=16, shape=(2,), dtype=float64, numpy=array([2., 0.])>)\n(3, <tf.Tensor: id=21, shape=(2,), dtype=float64, numpy=array([5., 0.])>)\n"
     ]
    }
   ],
   "source": [
    "for i in enumerate(out):\n",
    "    print(i)\n"
   ]
  },
  {
   "cell_type": "code",
   "execution_count": 14,
   "metadata": {},
   "outputs": [
    {
     "ename": "NameError",
     "evalue": "name 'karate_club_graph' is not defined",
     "traceback": [
      "\u001b[1;31m---------------------------------------------------------------------------\u001b[0m",
      "\u001b[1;31mNameError\u001b[0m                                 Traceback (most recent call last)",
      "\u001b[1;32m<ipython-input-14-4c39a1ecde6b>\u001b[0m in \u001b[0;36m<module>\u001b[1;34m\u001b[0m\n\u001b[0;32m      1\u001b[0m \u001b[1;32mfrom\u001b[0m \u001b[0mnetworkx\u001b[0m \u001b[1;32mimport\u001b[0m \u001b[0mto_numpy_matrix\u001b[0m\u001b[1;33m\u001b[0m\u001b[1;33m\u001b[0m\u001b[0m\n\u001b[1;32m----> 2\u001b[1;33m \u001b[0mzkc\u001b[0m \u001b[1;33m=\u001b[0m \u001b[0mkarate_club_graph\u001b[0m\u001b[1;33m(\u001b[0m\u001b[1;33m)\u001b[0m\u001b[1;33m\u001b[0m\u001b[1;33m\u001b[0m\u001b[0m\n\u001b[0m\u001b[0;32m      3\u001b[0m \u001b[0morder\u001b[0m \u001b[1;33m=\u001b[0m \u001b[0msorted\u001b[0m\u001b[1;33m(\u001b[0m\u001b[0mlist\u001b[0m\u001b[1;33m(\u001b[0m\u001b[0mzkc\u001b[0m\u001b[1;33m.\u001b[0m\u001b[0mnodes\u001b[0m\u001b[1;33m(\u001b[0m\u001b[1;33m)\u001b[0m\u001b[1;33m)\u001b[0m\u001b[1;33m)\u001b[0m\u001b[1;33m\u001b[0m\u001b[1;33m\u001b[0m\u001b[0m\n\u001b[0;32m      4\u001b[0m \u001b[0mA\u001b[0m \u001b[1;33m=\u001b[0m \u001b[0mto_numpy_matrix\u001b[0m\u001b[1;33m(\u001b[0m\u001b[0mzkc\u001b[0m\u001b[1;33m,\u001b[0m \u001b[0mnodelist\u001b[0m\u001b[1;33m=\u001b[0m\u001b[0morder\u001b[0m\u001b[1;33m)\u001b[0m\u001b[1;33m\u001b[0m\u001b[1;33m\u001b[0m\u001b[0m\n\u001b[0;32m      5\u001b[0m \u001b[0mI\u001b[0m \u001b[1;33m=\u001b[0m \u001b[0mnp\u001b[0m\u001b[1;33m.\u001b[0m\u001b[0meye\u001b[0m\u001b[1;33m(\u001b[0m\u001b[0mzkc\u001b[0m\u001b[1;33m.\u001b[0m\u001b[0mnumber_of_nodes\u001b[0m\u001b[1;33m(\u001b[0m\u001b[1;33m)\u001b[0m\u001b[1;33m)\u001b[0m\u001b[1;33m\u001b[0m\u001b[1;33m\u001b[0m\u001b[0m\n",
      "\u001b[1;31mNameError\u001b[0m: name 'karate_club_graph' is not defined"
     ],
     "output_type": "error"
    }
   ],
   "source": [
    "from networkx import to_numpy_matrix\n",
    "zkc = karate_club_graph()\n",
    "order = sorted(list(zkc.nodes()))\n",
    "A = to_numpy_matrix(zkc, nodelist=order)\n",
    "I = np.eye(zkc.number_of_nodes())\n",
    "A_hat = A + I\n",
    "D_hat = np.array(np.sum(A_hat, axis=0))[0]\n",
    "D_hat = np.matrix(np.diag(D_hat))"
   ]
  },
  {
   "cell_type": "code",
   "execution_count": null,
   "metadata": {},
   "outputs": [],
   "source": []
  }
 ],
 "metadata": {
  "kernelspec": {
   "display_name": "Python 2",
   "language": "python",
   "name": "python2"
  },
  "language_info": {
   "codemirror_mode": {
    "name": "ipython",
    "version": 2
   },
   "file_extension": ".py",
   "mimetype": "text/x-python",
   "name": "python",
   "nbconvert_exporter": "python",
   "pygments_lexer": "ipython2",
   "version": "2.7.6"
  }
 },
 "nbformat": 4,
 "nbformat_minor": 0
}
