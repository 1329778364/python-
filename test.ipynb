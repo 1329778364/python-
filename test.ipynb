{
 "cells": [
  {
   "cell_type": "code",
   "execution_count": 16,
   "metadata": {
    "collapsed": true
   },
   "outputs": [
    {
     "name": "stdout",
     "output_type": "stream",
     "text": [
      "<__main__.doubleCirclelist object at 0x0000025DF0D37278>\n31\n<__main__.doubleCirclelist object at 0x0000025DF0D37400>\n31\n"
     ]
    }
   ],
   "source": [
    "#!/usr/bin/env python\n",
    "# -*- coding: utf-8 -*-\n",
    "# @File  : 双向循环链表.py\n",
    "# @Date  : 2019/3/24 0024\n",
    "# @Contact : 1329778364@qq.com \n",
    "# @Author: DeepMan\n",
    "\n",
    "class Node():\n",
    "\n",
    "    __slots__ = [\"prior\", \"data\", \"next\"]\n",
    "\n",
    "    def __init__(self, prior=None, data=None, next=None):\n",
    "        self.prior = prior\n",
    "        self.data = data\n",
    "        self.next = next\n",
    "\n",
    "class doubleCirclelist(object):\n",
    "\n",
    "    def __init__(self, maxsize=None):\n",
    "        node = Node()\n",
    "        # 第一个节点 prior  与 next 都是指向自己本身的 node\n",
    "        node.next, node.prior = node, node\n",
    "        self.root = node # 一定要定义一个根节点 别忘了 用于指向 第一个节点\n",
    "        self.maxsize = maxsize\n",
    "        self.length = 0\n",
    "\n",
    "    def __len__(self):\n",
    "        return self.length\n",
    "\n",
    "    def headnode(self):\n",
    "        return self.root.next  # 这里一定要注意root作为第一个节点  但不是头节点\n",
    "\n",
    "    def tailnode(self):\n",
    "        return self.root.prior\n",
    "\n",
    "    def append(self, value):\n",
    "        # when we append some ,1 判断是否还能够追加（达到maxsize） （判断是否满了）\n",
    "        if self.maxsize is not None and len(self) >= self.maxsize:\n",
    "            raise ValueError(\"list is full, don't have size\")\n",
    "\n",
    "        # 然后进行追加 p -> prior  = o; o -> next = p ; p ->next = root; root.next = p\n",
    "\n",
    "        newnode = Node(data=value)\n",
    "        tailnode = self.tailnode() or self.root\n",
    "        # 这里写root 是为了能够得到在第一次追加元素时在 root后面进行添加\n",
    "        newnode.prior = tailnode\n",
    "        tailnode.next = newnode\n",
    "\n",
    "        newnode.next = self.root  # root始终是不会变得 所以每次追加的时候 其都指向root\n",
    "        self.root.prior = newnode\n",
    "\n",
    "        self.length += 1\n",
    "\n",
    "    def appendLeft(self, value): # 注意 是在root后面议添加还是在前面添加 当然是后面拉，\n",
    "        if self.maxsize is not None and len(self) >= self.maxsize:\n",
    "            raise Exception('LinkedList is Full')\n",
    "\n",
    "        newnode = Node(data=value)\n",
    "        # 这里我们要注意是否是空节点 如果是空节点直接添加在root 后面\n",
    "        if self.root.next == self.root:\n",
    "            newnode.prior = self.root\n",
    "            newnode.next = self.root\n",
    "            self.root.next = newnode\n",
    "            self.root.prior = newnode\n",
    "\n",
    "        else: # 也是追加在root 后面 只不过原来与其相连的要进行断开\n",
    "            headnode = self.root.next # 经过一个指向之后更容易理解 headnode其实就是root节点后面的第一个节点\n",
    "\n",
    "            newnode.next = headnode\n",
    "            headnode.prior = newnode\n",
    "\n",
    "            self.root.next = newnode\n",
    "            newnode.prior = self.root\n",
    "\n",
    "        self.length += 1\n",
    "\n",
    "    def iter_node(self):\n",
    "\n",
    "        current = self.root.next\n",
    "\n",
    "        if current == self.root:\n",
    "            return\n",
    "        while current.next is not self.root:  # current.next\n",
    "            yield current\n",
    "            current = current.next\n",
    "        yield current\n",
    "\n",
    "    def __iter__(self):\n",
    "        for node in self.iter_node():\n",
    "            yield node.data\n",
    "\n",
    "    def inverse_iter(self):\n",
    "\n",
    "        current = self.root.prior\n",
    "        # 判断练链表是否为空\n",
    "        if current == self.root:\n",
    "            return\n",
    "\n",
    "        while current.prior is not self.root:  # current.prior\n",
    "            yield current\n",
    "            current = current.prior\n",
    "        yield current\n",
    "\n",
    "\n",
    "def test_example(maxsize):\n",
    "    dl = doubleCirclelist(maxsize=maxsize)\n",
    "\n",
    "    for i in range(1, maxsize):\n",
    "        dl.append(i)\n",
    "\n",
    "    print(dl)\n",
    "    print(len(dl))\n",
    "\n",
    "\n",
    "\n",
    "\n",
    "if __name__ == '__main__':\n",
    "    test_example(32)\n",
    "\n",
    "\n",
    "\n",
    "\n",
    "\n",
    "\n",
    "\n",
    "\n",
    "\n",
    "#!/usr/bin/env python\n",
    "# -*- coding: utf-8 -*-\n",
    "# @File  : 双向循环链表.py\n",
    "# @Date  : 2019/3/24 0024\n",
    "# @Contact : 1329778364@qq.com \n",
    "# @Author: DeepMan\n",
    "\n",
    "class Node():\n",
    "\n",
    "    __slots__ = [\"prior\", \"data\", \"next\"]\n",
    "\n",
    "    def __init__(self, prior=None, data=None, next=None):\n",
    "        self.prior = prior\n",
    "        self.data = data\n",
    "        self.next = next\n",
    "\n",
    "class doubleCirclelist(object):\n",
    "\n",
    "    def __init__(self, maxsize=None):\n",
    "        node = Node()\n",
    "        # 第一个节点 prior  与 next 都是指向自己本身的 node\n",
    "        node.next, node.prior = node, node\n",
    "        self.root = node # 一定要定义一个根节点 别忘了 用于指向 第一个节点\n",
    "        self.maxsize = maxsize\n",
    "        self.length = 0\n",
    "\n",
    "    def __len__(self):\n",
    "        return self.length\n",
    "\n",
    "    def headnode(self):\n",
    "        return self.root.next  # 这里一定要注意root作为第一个节点  但不是头节点\n",
    "\n",
    "    def tailnode(self):\n",
    "        return self.root.prior\n",
    "\n",
    "    def append(self, value):\n",
    "        # when we append some ,1 判断是否还能够追加（达到maxsize） （判断是否满了）\n",
    "        if self.maxsize is not None and len(self) >= self.maxsize:\n",
    "            raise ValueError(\"list is full, don't have size\")\n",
    "\n",
    "        # 然后进行追加 p -> prior  = o; o -> next = p ; p ->next = root; root.next = p\n",
    "\n",
    "        newnode = Node(data=value)\n",
    "        tailnode = self.tailnode() or self.root\n",
    "        # 这里写root 是为了能够得到在第一次追加元素时在 root后面进行添加\n",
    "        newnode.prior = tailnode\n",
    "        tailnode.next = newnode\n",
    "\n",
    "        newnode.next = self.root  # root始终是不会变得 所以每次追加的时候 其都指向root\n",
    "        self.root.prior = newnode\n",
    "\n",
    "        self.length += 1\n",
    "\n",
    "    def appendLeft(self, value): # 注意 是在root后面议添加还是在前面添加 当然是后面拉，\n",
    "        if self.maxsize is not None and len(self) >= self.maxsize:\n",
    "            raise Exception('LinkedList is Full')\n",
    "\n",
    "        newnode = Node(data=value)\n",
    "        # 这里我们要注意是否是空节点 如果是空节点直接添加在root 后面\n",
    "        if self.root.next == self.root:\n",
    "            newnode.prior = self.root\n",
    "            newnode.next = self.root\n",
    "            self.root.next = newnode\n",
    "            self.root.prior = newnode\n",
    "\n",
    "        else: # 也是追加在root 后面 只不过原来与其相连的要进行断开\n",
    "            headnode = self.root.next # 经过一个指向之后更容易理解 headnode其实就是root节点后面的第一个节点\n",
    "\n",
    "            newnode.next = headnode\n",
    "            headnode.prior = newnode\n",
    "\n",
    "            self.root.next = newnode\n",
    "            newnode.prior = self.root\n",
    "\n",
    "        self.length += 1\n",
    "    \n",
    "    def remove(self, node): # 直接删除节点 不需要遍历查找到 直接更改节点的两个地址便可  这里输入的是节点  而不是value or index 所以比较方便\n",
    "\n",
    "        if self.root == self.root.next:\n",
    "            return\n",
    "\n",
    "        # 进行删除操作 先与前面断开，然后与后面 断开\n",
    "        node.prior.next = node.next\n",
    "        node.next.prior = node.prior\n",
    "\n",
    "        self.length -= 1\n",
    "        return node\n",
    "    \n",
    "\n",
    "    def iter_node(self):\n",
    "\n",
    "        current = self.root.next\n",
    "\n",
    "        if current == self.root:\n",
    "            return\n",
    "        while current.next is not self.root:  # current.next\n",
    "            yield current\n",
    "            current = current.next\n",
    "        yield current\n",
    "\n",
    "    def __iter__(self):\n",
    "        for node in self.iter_node():\n",
    "            yield node.data\n",
    "\n",
    "    def inverse_iter(self):\n",
    "\n",
    "        current = self.root.prior\n",
    "        # 判断练链表是否为空\n",
    "        if current == self.root:\n",
    "            return\n",
    "\n",
    "        while current.prior is not self.root:  # current.prior\n",
    "            yield current\n",
    "            current = current.prior\n",
    "        yield current\n",
    "\n",
    "\n",
    "maxsize = 32\n",
    "dl = doubleCirclelist(maxsize=maxsize)\n",
    "\n",
    "for i in range(1, maxsize):\n",
    "    dl.append(i)\n",
    "\n",
    "print(dl)\n",
    "print(len(dl))\n",
    "\n",
    "\n"
   ]
  },
  {
   "cell_type": "code",
   "execution_count": 17,
   "metadata": {},
   "outputs": [],
   "source": [
    "dl.append(10)"
   ]
  },
  {
   "cell_type": "code",
   "execution_count": 18,
   "metadata": {},
   "outputs": [
    {
     "data": {
      "text/plain": [
       "32"
      ]
     },
     "execution_count": 18,
     "metadata": {},
     "output_type": "execute_result"
    }
   ],
   "source": [
    "len(dl)"
   ]
  },
  {
   "cell_type": "code",
   "execution_count": 31,
   "metadata": {},
   "outputs": [
    {
     "name": "stdout",
     "output_type": "stream",
     "text": [
      "10\n31\n30\n29\n28\n27\n26\n25\n24\n23\n22\n21\n20\n19\n18\n17\n16\n15\n14\n13\n12\n11\n10\n9\n8\n7\n6\n5\n"
     ]
    }
   ],
   "source": [
    "for i in dl.inverse_iter():\n",
    "    print(i.data)\n"
   ]
  },
  {
   "cell_type": "code",
   "execution_count": 32,
   "metadata": {},
   "outputs": [],
   "source": [
    "headnode = dl.headnode()\n",
    "    \n",
    "    \n",
    "    "
   ]
  },
  {
   "cell_type": "code",
   "execution_count": 33,
   "metadata": {},
   "outputs": [
    {
     "data": {
      "text/plain": [
       "<__main__.Node at 0x25defc7ebc8>"
      ]
     },
     "execution_count": 33,
     "metadata": {},
     "output_type": "execute_result"
    }
   ],
   "source": [
    "dl.remove(headnode)"
   ]
  },
  {
   "cell_type": "code",
   "execution_count": 34,
   "metadata": {},
   "outputs": [
    {
     "name": "stdout",
     "output_type": "stream",
     "text": [
      "10\n31\n30\n29\n28\n27\n26\n25\n24\n23\n22\n21\n20\n19\n18\n17\n16\n15\n14\n13\n12\n11\n10\n9\n8\n7\n6\n"
     ]
    }
   ],
   "source": [
    "for i in dl.inverse_iter():\n",
    "    print(i.data)"
   ]
  },
  {
   "cell_type": "code",
   "execution_count": 7,
   "metadata": {},
   "outputs": [
    {
     "name": "stdout",
     "output_type": "stream",
     "text": [
      "9\n8\n7\n6\n5\n4\n3\n2\n1\n"
     ]
    }
   ],
   "source": [
    "for i in range(1, 10):\n",
    "    j = 10 - i\n",
    "    print(j)"
   ]
  },
  {
   "cell_type": "code",
   "execution_count": 2,
   "metadata": {},
   "outputs": [],
   "source": [
    "import random\n",
    "from queue import Queue\n",
    "\n",
    "\n",
    "def bfs(start, graph):\n",
    "    queue = Queue()\n",
    "    queue.put([start, 0])\n",
    "    vis = [False for _ in range(len(graph))]\n",
    "    vis[start] = True\n",
    "    maxDegree = 0\n",
    "    while not queue.empty():\n",
    "        node, degree = queue.get()\n",
    "        maxDegree = degree\n",
    "        for nextNode in graph[node]:\n",
    "            if not vis[nextNode]:\n",
    "                queue.put([nextNode, degree + 1])\n",
    "                vis[nextNode] = True\n",
    "    return maxDegree\n",
    "\n",
    "\n",
    "# 模拟一万个人空间的六度空间\n",
    "# 每个人大概可以与50-100个人形成直接联系,因为会有重复，每个人实际上直接进入下一层的人数小于50-100人\n",
    "n = 10000\n",
    "min_max = (50, 100)\n",
    "# 建立邻接表\n",
    "graph = [[] for _ in range(n)]\n",
    "for i in range(n):\n",
    "    # 每个人随机产生50-100之间的联系人\n",
    "    m = random.randint(min_max[0], min_max[1])\n",
    "    # 联系人从10000个人里面随机选出m位联系人\n",
    "    l = list(range(n))\n",
    "    random.shuffle(l)\n",
    "    for v in l:\n",
    "        if v != i:\n",
    "            graph[i].append(v)\n",
    "        if len(graph[i]) == m:\n",
    "            break\n",
    "\n",
    "print('Six Degrees of Separation')\n",
    "degree = bfs(0, graph)\n",
    "print('max degree is: %d' % degree)\n"
   ]
  },
  {
   "cell_type": "code",
   "execution_count": null,
   "metadata": {},
   "outputs": [],
   "source": []
  }
 ],
 "metadata": {
  "kernelspec": {
   "display_name": "Python 2",
   "language": "python",
   "name": "python2"
  },
  "language_info": {
   "codemirror_mode": {
    "name": "ipython",
    "version": 2
   },
   "file_extension": ".py",
   "mimetype": "text/x-python",
   "name": "python",
   "nbconvert_exporter": "python",
   "pygments_lexer": "ipython2",
   "version": "2.7.6"
  }
 },
 "nbformat": 4,
 "nbformat_minor": 0
}
